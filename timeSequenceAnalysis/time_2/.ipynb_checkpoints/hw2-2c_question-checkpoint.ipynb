{
 "cells": [
  {
   "cell_type": "markdown",
   "metadata": {},
   "source": [
    "# table2.6.csv是1969年1月到1973年9月在芝加哥海德公園內每28天發生的搶包案件數\n",
    "<br>　table2.6.csv是1969年1月到1973年9月在芝加哥海德公園內每28天發生的搶包案件數。<br/>\n",
    "<br>　判斷該序列{𝑥_𝑡}的平穩性和純隨機性。<br/>\n",
    "<br>　對該序列進行運算$ 𝑦_𝑡 = 𝑥_𝑡 − 𝑥_{𝑡−1}$，判斷{$𝑦_𝑡$}平穩性和純隨機性。<br/>\n",
    "\n"
   ]
  },
  {
   "cell_type": "code",
   "execution_count": 1,
   "metadata": {},
   "outputs": [],
   "source": [
    "import numpy as np\n",
    "import random\n",
    "import matplotlib.pyplot as plt\n",
    "import pandas as pd\n",
    "from statsmodels.stats.diagnostic import acorr_ljungbox as lb_test\n",
    "import statsmodels.tsa.api as smt"
   ]
  },
  {
   "cell_type": "markdown",
   "metadata": {},
   "source": [
    "# statsmodels自帶的畫ACF的函數"
   ]
  },
  {
   "cell_type": "code",
   "execution_count": null,
   "metadata": {},
   "outputs": [],
   "source": []
  },
  {
   "cell_type": "markdown",
   "metadata": {},
   "source": [
    "# statsmodels自帶的LB test"
   ]
  },
  {
   "cell_type": "code",
   "execution_count": null,
   "metadata": {},
   "outputs": [],
   "source": []
  },
  {
   "cell_type": "markdown",
   "metadata": {},
   "source": [
    "# 運行"
   ]
  },
  {
   "cell_type": "code",
   "execution_count": null,
   "metadata": {},
   "outputs": [],
   "source": []
  },
  {
   "cell_type": "markdown",
   "metadata": {},
   "source": [
    "# 判斷該序列{𝑥_𝑡}的平穩性和純隨機性。"
   ]
  },
  {
   "cell_type": "markdown",
   "metadata": {},
   "source": [
    "# 對該序列進行運算 𝑦𝑡=𝑥𝑡−𝑥𝑡−1 ，判斷{ 𝑦𝑡 }平穩性和純隨機性。"
   ]
  },
  {
   "cell_type": "markdown",
   "metadata": {},
   "source": [
    "$$ 令 y_t=x_t-x_{t-1} $$"
   ]
  },
  {
   "cell_type": "code",
   "execution_count": null,
   "metadata": {},
   "outputs": [],
   "source": []
  }
 ],
 "metadata": {
  "kernelspec": {
   "display_name": "Python 3",
   "language": "python",
   "name": "python3"
  },
  "language_info": {
   "codemirror_mode": {
    "name": "ipython",
    "version": 3
   },
   "file_extension": ".py",
   "mimetype": "text/x-python",
   "name": "python",
   "nbconvert_exporter": "python",
   "pygments_lexer": "ipython3",
   "version": "3.8.8"
  }
 },
 "nbformat": 4,
 "nbformat_minor": 4
}

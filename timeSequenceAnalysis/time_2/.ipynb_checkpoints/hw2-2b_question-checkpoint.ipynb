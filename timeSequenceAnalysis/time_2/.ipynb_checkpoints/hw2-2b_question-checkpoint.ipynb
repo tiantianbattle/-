{
 "cells": [
  {
   "cell_type": "markdown",
   "metadata": {},
   "source": [
    "# data1.5.csv的1950-1998年北京市城鄉居民定期儲蓄所占比例序列。\n",
    "\n",
    "<br>對data1.5.csv中的1950-1998年北京市城鄉居民定期儲蓄所占比例序列，進行平穩性與純隨機性進行檢驗。（利用statsmodels的函數）<br/>\n",
    "<br>畫出時序圖<br/>\n",
    "<br>進行自相關圖檢驗<br/>\n",
    "<br>進行純隨機性檢驗（延遲6期和12期，𝑎𝑙𝑝ℎ𝑎=0.05）<br/>\n",
    "<br>用文字描述你的結果。<br/>\n"
   ]
  },
  {
   "cell_type": "code",
   "execution_count": null,
   "metadata": {},
   "outputs": [],
   "source": [
    "import numpy as np\n",
    "import random\n",
    "import matplotlib.pyplot as plt\n",
    "import pandas as pd\n",
    "from statsmodels.stats.diagnostic import acorr_ljungbox as lb_test\n",
    "import statsmodels.tsa.api as smt"
   ]
  },
  {
   "cell_type": "markdown",
   "metadata": {},
   "source": [
    "# statsmodels自帶的畫ACF的函數"
   ]
  },
  {
   "cell_type": "code",
   "execution_count": null,
   "metadata": {},
   "outputs": [],
   "source": [
    "def drawts(y,pname):\n",
    "    ##draw ax\n",
    "    fig = plt.figure(figsize=(10,8))\n",
    "    ts_ax=plt.subplot2grid((2,2),(0,0),colspan=2)\n",
    "    acf_ax=plt.subplot2grid((2,2),(1,0))\n",
    "    pacf_ax=plt.subplot2grid((2,2),(1,1))\n",
    "    ##draw plot\n",
    "    ts_ax.plot(y,'*-')\n",
    "    ts_ax.set_title('Time Series Analysis Plots')\n",
    "    smt.graphics.plot_acf(y,lags=None,ax=acf_ax,alpha=0.05) ##2sigma\n",
    "    smt.graphics.plot_pacf(y,lags=None,ax=pacf_ax,alpha=0.05)  ##2sigma\n",
    "    #plt.savefig('%s.jpg'%pname,dpi=256)\n",
    "    plt.show()\n",
    "    plt.close()"
   ]
  },
  {
   "cell_type": "markdown",
   "metadata": {},
   "source": [
    "# statsmodels自帶的LB test"
   ]
  },
  {
   "cell_type": "code",
   "execution_count": null,
   "metadata": {},
   "outputs": [],
   "source": [
    "def purerandtest(y):\n",
    "    a,b=lb_test(y,lags=None,boxpierce=False)\n",
    "    LB_purerand=pd.DataFrame(np.c_[a,b],columns=['LB','Pvalue'])\n",
    "    LB_purerand['lags']=range(1,len(a)+1)\n",
    "    print('----time series: LB pure randomness test----')\n",
    "    print(LB_purerand)"
   ]
  },
  {
   "cell_type": "markdown",
   "metadata": {},
   "source": [
    "# 運行"
   ]
  },
  {
   "cell_type": "code",
   "execution_count": null,
   "metadata": {},
   "outputs": [],
   "source": [
    "##read data\n",
    "dfname='data1.5'\n",
    "y=pd.read_csv('%s.csv'%dfname,header=None)\n",
    "y.iloc[:,0]=y.iloc[:,0].astype('float')\n",
    "y=y.values[:,0]\n",
    "print('statsmodels ACF')\n",
    "drawts(y,dfname)\n",
    "print('statsmodels LB test')\n",
    "purerandtest(y)"
   ]
  },
  {
   "cell_type": "code",
   "execution_count": null,
   "metadata": {},
   "outputs": [],
   "source": []
  },
  {
   "cell_type": "code",
   "execution_count": null,
   "metadata": {},
   "outputs": [],
   "source": []
  },
  {
   "cell_type": "code",
   "execution_count": null,
   "metadata": {},
   "outputs": [],
   "source": []
  }
 ],
 "metadata": {
  "kernelspec": {
   "display_name": "Python 3",
   "language": "python",
   "name": "python3"
  },
  "language_info": {
   "codemirror_mode": {
    "name": "ipython",
    "version": 3
   },
   "file_extension": ".py",
   "mimetype": "text/x-python",
   "name": "python",
   "nbconvert_exporter": "python",
   "pygments_lexer": "ipython3",
   "version": "3.8.8"
  }
 },
 "nbformat": 4,
 "nbformat_minor": 4
}

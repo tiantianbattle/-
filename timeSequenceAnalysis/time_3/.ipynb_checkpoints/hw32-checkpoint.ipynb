{
 "cells": [
  {
   "cell_type": "code",
   "execution_count": 63,
   "metadata": {
    "ExecuteTime": {
     "end_time": "2022-10-09T09:53:25.510519Z",
     "start_time": "2022-10-09T09:53:25.499528Z"
    }
   },
   "outputs": [],
   "source": [
    "import numpy as np\n",
    "import matplotlib.pyplot as plt"
   ]
  },
  {
   "cell_type": "markdown",
   "metadata": {},
   "source": [
    "计算自相关系数"
   ]
  },
  {
   "cell_type": "code",
   "execution_count": 64,
   "metadata": {
    "ExecuteTime": {
     "end_time": "2022-10-09T09:53:26.084648Z",
     "start_time": "2022-10-09T09:53:26.068692Z"
    }
   },
   "outputs": [],
   "source": [
    "def caculatePk(y, lag, method):\n",
    "    if method == \"LB\":\n",
    "        lag += 1\n",
    "    Pk = np.ones(lag)\n",
    "    N = len(y)\n",
    "    u = y.mean()\n",
    "    for k in range(0, lag):\n",
    "        upsum = 0\n",
    "        downsum = 0\n",
    "        for i in range(0, N - k):\n",
    "            upsum += (y[i] - u) * (y[i + k] - u)\n",
    "        for i in range(0, N):\n",
    "            downsum += (y[i] - u) ** 2\n",
    "        Pk[k] = (upsum / downsum)\n",
    "    return Pk\n"
   ]
  },
  {
   "cell_type": "markdown",
   "metadata": {},
   "source": [
    "画图函数"
   ]
  },
  {
   "cell_type": "code",
   "execution_count": null,
   "metadata": {
    "ExecuteTime": {
     "start_time": "2022-10-09T11:44:55.654Z"
    }
   },
   "outputs": [],
   "source": [
    "def drawer(y, Pk,i):\n",
    "    plt.figure(figsize=(10,8))\n",
    "    timeSequence = plt.subplot2grid((2, 1), (0, 0))\n",
    "    acf = plt.subplot2grid((2, 1), (1, 0))\n",
    "\n",
    "    twosigma = np.ones(len(Pk))\n",
    "    n = len(y)\n",
    "    twosigma[0] = ((1 / n) ** 0.5)\n",
    "    for i in range(1, len(Pk)):\n",
    "        sum = 0\n",
    "        for j in range(0, i):\n",
    "            sum += Pk[j] ** 2\n",
    "        twosigma[i] = (((1 / n) * (1 + 2 * sum)) ** 0.5)\n",
    "\n",
    "    acf.bar(range(len(Pk)), Pk)\n",
    "    acf.fill_between(range(len(Pk)), -1 * twosigma, twosigma, color='lightblue')\n",
    "    acf.set_title('Autocorrelation--')\n",
    "    timeSequence.set_title('Time Series Analysis Plots--')\n",
    "    timeSequence.plot(y, \"-*\")\n",
    "    \n",
    "    plt.show()\n",
    "    plt.close()"
   ]
  },
  {
   "cell_type": "markdown",
   "metadata": {},
   "source": [
    "序列生成函数"
   ]
  },
  {
   "cell_type": "code",
   "execution_count": null,
   "metadata": {
    "ExecuteTime": {
     "start_time": "2022-10-09T11:44:56.703Z"
    }
   },
   "outputs": [],
   "source": [
    "def outputSeries(x1, x2):\n",
    "    output = np.zeros(101)\n",
    "    if(x2 != 0):\n",
    "        output[0] = np.random.normal(0, 1, 1)\n",
    "        output[1] = np.random.normal(0, 1, 1)\n",
    "    for i in range(1, 101):\n",
    "        output[i] = output[i-1] * x1 + output[i-2] * x2 + np.random.normal(0, 1, 1)\n",
    "    return output"
   ]
  },
  {
   "cell_type": "markdown",
   "metadata": {},
   "source": [
    "生成相关序列"
   ]
  },
  {
   "cell_type": "code",
   "execution_count": null,
   "metadata": {
    "ExecuteTime": {
     "start_time": "2022-10-09T11:45:02.673Z"
    }
   },
   "outputs": [],
   "source": [
    "Series = []\n",
    "Series.append(outputSeries(0.8, 0))\n",
    "Series.append(outputSeries(-1.1, 0))\n",
    "Series.append(outputSeries(1, -0.5))\n",
    "Series.append(outputSeries(1, 0.5))\n",
    "Series.append(outputSeries(-0.9, 0))\n",
    "Series.append(outputSeries(0.9, -0.2))"
   ]
  },
  {
   "cell_type": "markdown",
   "metadata": {},
   "source": [
    "画图"
   ]
  },
  {
   "cell_type": "code",
   "execution_count": null,
   "metadata": {
    "ExecuteTime": {
     "start_time": "2022-10-09T11:45:03.813Z"
    }
   },
   "outputs": [],
   "source": [
    "for item in Series: \n",
    "    Pk = caculatePk(item, 50, \"\")\n",
    "    print(index)\n",
    "    drawer(item,Pk,seq[index])"
   ]
  },
  {
   "cell_type": "code",
   "execution_count": null,
   "metadata": {
    "ExecuteTime": {
     "start_time": "2022-10-09T11:45:05.493Z"
    },
    "scrolled": false
   },
   "outputs": [],
   "source": [
    "###使用for循环和enumerate()函数可以实现同时输出索引值和元素内容,调用函数时会报迭代器错误\n",
    "# for i in range(len(Series)):\n",
    "#     Pk = caculatePk(Series[i], 50, \"\")\n",
    "#     drawer(Series[i],Pk)\n",
    "\n",
    "# for(int i = 0 ;i <len(Series);i++):\n",
    "#     Pk = caculatePk(Series[i], 50, \"\")\n",
    "#     drawer(Series[i],Pk,i+1)\n",
    "i=0\n",
    "while i <len(Series):\n",
    "    Pk = caculatePk(Series[i], 50, \"\")\n",
    "    drawer(Series[i],Pk,i)\n",
    "    i++"
   ]
  },
  {
   "cell_type": "code",
   "execution_count": null,
   "metadata": {},
   "outputs": [],
   "source": []
  }
 ],
 "metadata": {
  "kernelspec": {
   "display_name": "Python 3",
   "language": "python",
   "name": "python3"
  },
  "language_info": {
   "codemirror_mode": {
    "name": "ipython",
    "version": 3
   },
   "file_extension": ".py",
   "mimetype": "text/x-python",
   "name": "python",
   "nbconvert_exporter": "python",
   "pygments_lexer": "ipython3",
   "version": "3.8.8"
  },
  "toc": {
   "base_numbering": 1,
   "nav_menu": {},
   "number_sections": true,
   "sideBar": true,
   "skip_h1_title": false,
   "title_cell": "Table of Contents",
   "title_sidebar": "Contents",
   "toc_cell": false,
   "toc_position": {},
   "toc_section_display": true,
   "toc_window_display": false
  }
 },
 "nbformat": 4,
 "nbformat_minor": 4
}

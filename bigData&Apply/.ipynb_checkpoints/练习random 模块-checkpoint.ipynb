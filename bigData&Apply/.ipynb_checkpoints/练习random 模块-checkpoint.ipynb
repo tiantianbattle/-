{
 "cells": [
  {
   "cell_type": "markdown",
   "id": "26923fe0",
   "metadata": {},
   "source": [
    "要求：在python内练习此模块并截图。"
   ]
  },
  {
   "cell_type": "raw",
   "id": "f10e1579",
   "metadata": {},
   "source": [
    "import random    \n",
    "random.random()                        #生成0-1之间均匀分布的随机浮点数\n",
    "random.normalvariate(0, 1)                 #生成1个符合均值为0，方差为1正态分布的随机数\n",
    "[random.normalvariate(0, 1) for x in range(10)]    #生成长度为10的正态分布序列\n",
    "random.uniform(a, b)                   #生成[a, b]区间内的随机浮点数\n",
    "random.randint(a, b)                   #生成[a, b]区间内的随机整数\n",
    "random.choice(s)                       #从序列s中随机获取一个值\n",
    "random.shuffle(s)                      #将序列s中元素打乱\n",
    "random.sample(s, k)                    #从序列s中获取长度为k的片段"
   ]
  },
  {
   "cell_type": "code",
   "execution_count": 47,
   "id": "31240109",
   "metadata": {
    "scrolled": true
   },
   "outputs": [
    {
     "name": "stdout",
     "output_type": "stream",
     "text": [
      "<class 'builtin_function_or_method'>\n",
      "生成0-1之间均匀分布的随机浮点数: 0.2730423212252896\n",
      "生成1个符合均值为0，方差为1正态分布的随机数: 0.6408167477563698\n",
      "生成长度为10的正态分布序列 [-0.7116373653441779, 0.3678671318832897, 0.11999051486279831, -0.33912290344278306, -0.39527100817378585, 0.7254693538141064, 0.4935706515994945, 0.48479330918014985, 0.3083243742452991, 1.4757085182052603]\n",
      "生成[a, b]区间内的随机浮点数: 2.424417967592914\n",
      "生成[a, b]区间内的随机整数: 11\n",
      "从序列s中随机获取一个值: 35\n",
      "将序列s中元素打乱: None\n",
      "从序列s中获取长度为k的片段: [60, 32, 29, 71]\n"
     ]
    }
   ],
   "source": [
    "import random\n",
    "a = 1.5\n",
    "b = 3.0\n",
    "c = 10\n",
    "d = 20\n",
    "s = [12, 27, 29, 32, 35, 54, 60, 70, 71, 91]\n",
    "k = 4\n",
    "x = 0\n",
    "print(type(random.random))\n",
    "print('生成0-1之间均匀分布的随机浮点数:',random.random()) \n",
    "print('生成1个符合均值为0，方差为1正态分布的随机数:',random.normalvariate(0,1))               \n",
    "print('生成长度为10的正态分布序列',[random.normalvariate(0, 1) for x in range(10)])\n",
    "print('生成[a, b]区间内的随机浮点数:',random.uniform(a, b))\n",
    "print('生成[a, b]区间内的随机整数:',random.randint(c, d) )\n",
    "print('从序列s中随机获取一个值:',random.choice(s))\n",
    "print('将序列s中元素打乱:',random.shuffle(s))\n",
    "print('从序列s中获取长度为k的片段:',random.sample(s, k))\n"
   ]
  },
  {
   "cell_type": "code",
   "execution_count": null,
   "id": "bbb0d480",
   "metadata": {},
   "outputs": [],
   "source": []
  }
 ],
 "metadata": {
  "kernelspec": {
   "display_name": "Python 3 (ipykernel)",
   "language": "python",
   "name": "python3"
  },
  "language_info": {
   "codemirror_mode": {
    "name": "ipython",
    "version": 3
   },
   "file_extension": ".py",
   "mimetype": "text/x-python",
   "name": "python",
   "nbconvert_exporter": "python",
   "pygments_lexer": "ipython3",
   "version": "3.9.12"
  }
 },
 "nbformat": 4,
 "nbformat_minor": 5
}

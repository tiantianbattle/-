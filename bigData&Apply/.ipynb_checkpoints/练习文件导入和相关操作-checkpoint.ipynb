{
 "cells": [
  {
   "cell_type": "markdown",
   "id": "188abf26",
   "metadata": {},
   "source": [
    "要求：\n",
    "\n",
    "1.根据给定file.csv, 自定义表头\n",
    "\n",
    "2.进行列操作，并另存新文件filenew.csv\n",
    "\n",
    "3.给出代码及运行结果。"
   ]
  },
  {
   "cell_type": "code",
   "execution_count": null,
   "id": "35f8b9e8",
   "metadata": {},
   "outputs": [],
   "source": []
  }
 ],
 "metadata": {
  "kernelspec": {
   "display_name": "Python 3 (ipykernel)",
   "language": "python",
   "name": "python3"
  },
  "language_info": {
   "codemirror_mode": {
    "name": "ipython",
    "version": 3
   },
   "file_extension": ".py",
   "mimetype": "text/x-python",
   "name": "python",
   "nbconvert_exporter": "python",
   "pygments_lexer": "ipython3",
   "version": "3.9.12"
  }
 },
 "nbformat": 4,
 "nbformat_minor": 5
}

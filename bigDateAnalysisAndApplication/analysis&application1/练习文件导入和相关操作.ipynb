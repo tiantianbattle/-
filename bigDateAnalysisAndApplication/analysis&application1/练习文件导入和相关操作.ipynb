{
 "cells": [
  {
   "cell_type": "markdown",
   "id": "188abf26",
   "metadata": {},
   "source": [
    "导入file.csv, 定义表头，进行列运算操作\n",
    "\n",
    "要求：\n",
    "\n",
    "1.根据给定file.csv, 自定义表头\n",
    "\n",
    "2.进行列操作，并另存新文件filenew.csv\n",
    "\n",
    "3.给出代码及运行结果。"
   ]
  },
  {
   "cell_type": "code",
   "execution_count": 6,
   "id": "35f8b9e8",
   "metadata": {},
   "outputs": [
    {
     "name": "stdout",
     "output_type": "stream",
     "text": [
      "   a  b  c\n",
      "0  1  2  3\n",
      "1  4  5  6\n"
     ]
    }
   ],
   "source": [
    "import pandas as pd\n",
    "import numpy as np\n",
    "df = pd.read_csv('file.csv',header=None,names=['a','b','c'])\n",
    "print(df.head())\n",
    "df.to_csv('newFile.csv')\n"
   ]
  },
  {
   "cell_type": "code",
   "execution_count": 11,
   "id": "a94e0fcb",
   "metadata": {},
   "outputs": [
    {
     "name": "stdout",
     "output_type": "stream",
     "text": [
      "   a  b  c\n",
      "0  1  2  3\n",
      "1  4  5  6\n"
     ]
    }
   ],
   "source": [
    "df = pd.read_csv('newFile.csv',index_col = 0)\n",
    "print(df.head())"
   ]
  },
  {
   "cell_type": "code",
   "execution_count": null,
   "id": "d000bd1e",
   "metadata": {},
   "outputs": [],
   "source": []
  }
 ],
 "metadata": {
  "kernelspec": {
   "display_name": "Python 3",
   "language": "python",
   "name": "python3"
  },
  "language_info": {
   "codemirror_mode": {
    "name": "ipython",
    "version": 3
   },
   "file_extension": ".py",
   "mimetype": "text/x-python",
   "name": "python",
   "nbconvert_exporter": "python",
   "pygments_lexer": "ipython3",
   "version": "3.8.8"
  }
 },
 "nbformat": 4,
 "nbformat_minor": 5
}

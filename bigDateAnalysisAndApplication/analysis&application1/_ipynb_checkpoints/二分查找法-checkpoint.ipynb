{
 "cells": [
  {
   "cell_type": "markdown",
   "id": "0c77d715",
   "metadata": {},
   "source": [
    "# 递归实现二分查找法，并实现查找坐标位置。"
   ]
  },
  {
   "cell_type": "markdown",
   "id": "14d857dc",
   "metadata": {},
   "source": [
    "要求\n",
    "\n",
    "1.黏贴完整代码\n",
    "\n",
    "2.运行结果截图\n",
    "\n",
    "3.自定义输入元素"
   ]
  },
  {
   "cell_type": "code",
   "execution_count": 18,
   "id": "fd25bfa3",
   "metadata": {},
   "outputs": [
    {
     "ename": "SyntaxError",
     "evalue": "invalid syntax (3774068863.py, line 10)",
     "output_type": "error",
     "traceback": [
      "\u001b[0;36m  Input \u001b[0;32mIn [18]\u001b[0;36m\u001b[0m\n\u001b[0;31m    if(list[mid] ==num):\u001b[0m\n\u001b[0m                       ^\u001b[0m\n\u001b[0;31mSyntaxError\u001b[0m\u001b[0;31m:\u001b[0m invalid syntax\n"
     ]
    }
   ],
   "source": [
    "list = [1,34,66,88,99,44,22,33,77];\n",
    "num = int(input())\n",
    "#num =99\n",
    "result = dichotomy(list,num)\n",
    "print(result)\n",
    "def dichotomy(list,num,left,right):\n",
    "    if(left > right):\n",
    "        return None\n",
    "    mid = int(left+(len-right)//2\n",
    "    elif num <list[mid]:\n",
    "        newList = list[0:mid]\n",
    "        newRuslt = dichotomy(newList,num)\n",
    "        if newRuslt is None:\n",
    "            return None\n",
    "        else :\n",
    "            return dichotomy(newList,num)\n",
    "    else num >list[mid]:\n",
    "        newList = list[mid+1:]\n",
    "        newRuslt = dichotomy(newList,num)\n",
    "        if newRuslt is None:\n",
    "            return None\n",
    "        else :\n",
    "            return dichotomy(newList,num) +1\n",
    "\n"
   ]
  },
  {
   "cell_type": "code",
   "execution_count": 17,
   "id": "3595102a",
   "metadata": {},
   "outputs": [
    {
     "name": "stdout",
     "output_type": "stream",
     "text": [
      "12\n",
      "0\n"
     ]
    }
   ],
   "source": [
    "lss = [12, 27, 29, 32, 35, 54, 60, 70, 71, 91]\n",
    "def b_search(ls, target):\n",
    "    def bin_search(ls, target, l, r):\n",
    "        if l > r:\n",
    "            return -1\n",
    "        mid = int(l + (r - l) / 2)\n",
    "        if ls[mid] == target:\n",
    "            return mid\n",
    "        elif ls[mid] < target:\n",
    "            return bin_search(ls, target, mid + 1, r)\n",
    "        else:\n",
    "            return bin_search(ls, target, l, mid - 1)\n",
    "    return bin_search(ls, target, 0, len(ls)-1)\n",
    "num = int(input())\n",
    "print(b_search(lss, num))"
   ]
  },
  {
   "cell_type": "code",
   "execution_count": null,
   "id": "2cd3f21e",
   "metadata": {},
   "outputs": [],
   "source": []
  }
 ],
 "metadata": {
  "kernelspec": {
   "display_name": "Python 3 (ipykernel)",
   "language": "python",
   "name": "python3"
  },
  "language_info": {
   "codemirror_mode": {
    "name": "ipython",
    "version": 3
   },
   "file_extension": ".py",
   "mimetype": "text/x-python",
   "name": "python",
   "nbconvert_exporter": "python",
   "pygments_lexer": "ipython3",
   "version": "3.9.12"
  }
 },
 "nbformat": 4,
 "nbformat_minor": 5
}

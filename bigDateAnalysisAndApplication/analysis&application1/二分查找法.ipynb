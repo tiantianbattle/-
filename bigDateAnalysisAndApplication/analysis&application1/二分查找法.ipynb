{
 "cells": [
  {
   "cell_type": "markdown",
   "id": "0c77d715",
   "metadata": {},
   "source": [
    "# 递归实现二分查找法，并实现查找坐标位置。"
   ]
  },
  {
   "cell_type": "markdown",
   "id": "14d857dc",
   "metadata": {},
   "source": [
    "要求\n",
    "\n",
    "1.黏贴完整代码\n",
    "\n",
    "2.运行结果截图\n",
    "\n",
    "3.自定义输入元素"
   ]
  },
  {
   "cell_type": "code",
   "execution_count": 2,
   "id": "3595102a",
   "metadata": {},
   "outputs": [
    {
     "name": "stdout",
     "output_type": "stream",
     "text": [
      "29\n",
      "2\n"
     ]
    }
   ],
   "source": [
    "lss = [12, 27, 29, 32, 35, 54, 60, 70, 71, 91]\n",
    "def b_search(ls, target):\n",
    "    def bin_search(ls, target, l, r):\n",
    "        if l > r:\n",
    "            return -1\n",
    "        mid = int(l + (r - l) / 2)\n",
    "        if ls[mid] == target:\n",
    "            return mid\n",
    "        elif ls[mid] < target:\n",
    "            return bin_search(ls, target, mid + 1, r)\n",
    "        else:\n",
    "            return bin_search(ls, target, l, mid - 1)\n",
    "    return bin_search(ls, target, 0, len(ls)-1)\n",
    "num = int(input())\n",
    "print(b_search(lss, num))"
   ]
  },
  {
   "cell_type": "code",
   "execution_count": null,
   "id": "2cd3f21e",
   "metadata": {},
   "outputs": [],
   "source": []
  }
 ],
 "metadata": {
  "kernelspec": {
   "display_name": "Python 3",
   "language": "python",
   "name": "python3"
  },
  "language_info": {
   "codemirror_mode": {
    "name": "ipython",
    "version": 3
   },
   "file_extension": ".py",
   "mimetype": "text/x-python",
   "name": "python",
   "nbconvert_exporter": "python",
   "pygments_lexer": "ipython3",
   "version": "3.8.8"
  }
 },
 "nbformat": 4,
 "nbformat_minor": 5
}

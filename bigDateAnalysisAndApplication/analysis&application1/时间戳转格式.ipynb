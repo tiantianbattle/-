{
 "cells": [
  {
   "cell_type": "markdown",
   "id": "49497f05",
   "metadata": {},
   "source": [
    "## 将时间戳数据，转换为常见时间格式（**年**月**日**时**分**秒**星期*），并计算运行时间。\n"
   ]
  },
  {
   "cell_type": "markdown",
   "id": "dac7f63d",
   "metadata": {},
   "source": [
    "要求同第一题\n",
    "\n",
    "时间戳数据为a = 1566897866"
   ]
  },
  {
   "cell_type": "code",
   "execution_count": 2,
   "id": "5c12e2bd",
   "metadata": {},
   "outputs": [],
   "source": [
    "import time,datatime"
   ]
  },
  {
   "cell_type": "code",
   "execution_count": 5,
   "id": "b7f37eb7",
   "metadata": {},
   "outputs": [
    {
     "name": "stdout",
     "output_type": "stream",
     "text": [
      "1970-01-19 11:14:57\n"
     ]
    }
   ],
   "source": [
    "timeStamp = 1566897866\n",
    "myTime = time.localtime(timeStamp/1000)\n",
    "dt = time.strftime(\"%Y-%m-%d %H:%M:%S\", myTime)\n",
    "print(dt)\n"
   ]
  },
  {
   "cell_type": "code",
   "execution_count": null,
   "id": "cba6a724",
   "metadata": {},
   "outputs": [],
   "source": []
  }
 ],
 "metadata": {
  "kernelspec": {
   "display_name": "Python 3",
   "language": "python",
   "name": "python3"
  },
  "language_info": {
   "codemirror_mode": {
    "name": "ipython",
    "version": 3
   },
   "file_extension": ".py",
   "mimetype": "text/x-python",
   "name": "python",
   "nbconvert_exporter": "python",
   "pygments_lexer": "ipython3",
   "version": "3.8.8"
  }
 },
 "nbformat": 4,
 "nbformat_minor": 5
}

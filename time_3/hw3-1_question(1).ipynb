{
 "cells": [
  {
   "cell_type": "code",
   "execution_count": 1,
   "metadata": {},
   "outputs": [],
   "source": [
    "import numpy as np\n",
    "import pandas as pd\n",
    "import matplotlib.pyplot as plt"
   ]
  },
  {
   "cell_type": "code",
   "execution_count": 2,
   "metadata": {},
   "outputs": [],
   "source": [
    "dfname='hw3-1'\n",
    "y=pd.read_csv('%s.csv'%dfname,header=None)\n",
    "y.iloc[:,0]=y.iloc[:,0].astype('float')\n",
    "y=y.values[:,0]"
   ]
  },
  {
   "cell_type": "markdown",
   "metadata": {},
   "source": [
    "計算1階差分$\\nabla y_t$"
   ]
  },
  {
   "cell_type": "code",
   "execution_count": 3,
   "metadata": {},
   "outputs": [],
   "source": [
    "###diff1y="
   ]
  },
  {
   "cell_type": "markdown",
   "metadata": {},
   "source": [
    "計算2階差分$\\nabla^2 y_t$"
   ]
  },
  {
   "cell_type": "code",
   "execution_count": 4,
   "metadata": {},
   "outputs": [],
   "source": [
    "###diff2y="
   ]
  },
  {
   "cell_type": "markdown",
   "metadata": {},
   "source": [
    "計算3步差分$\\nabla_3 y_t$"
   ]
  },
  {
   "cell_type": "code",
   "execution_count": 5,
   "metadata": {},
   "outputs": [],
   "source": [
    "###step3y="
   ]
  },
  {
   "cell_type": "markdown",
   "metadata": {},
   "source": [
    "計算$\\nabla^2 \\nabla_3 y_t$"
   ]
  },
  {
   "cell_type": "code",
   "execution_count": 6,
   "metadata": {},
   "outputs": [],
   "source": [
    "###diff2step3y="
   ]
  },
  {
   "cell_type": "code",
   "execution_count": null,
   "metadata": {},
   "outputs": [],
   "source": [
    "plt.figure(figsize=(5,14))\n",
    "plt.subplots_adjust(hspace=0.5)\n",
    "plt.subplot(5,1,1)\n",
    "plt.plot(np.arange(len(y)),y,label='y')\n",
    "plt.title('y')\n",
    "plt.subplot(5,1,2)\n",
    "plt.plot(np.arange(len(y)-len(diff1y),len(y)),diff1y,label='diff1y')\n",
    "plt.title('diff1y')\n",
    "plt.subplot(5,1,3)\n",
    "plt.plot(np.arange(len(y)-len(diff2y),len(y)),diff2y,label='diff2y')\n",
    "plt.title('diff2y')\n",
    "plt.subplot(5,1,4)\n",
    "plt.plot(np.arange(len(y)-len(step3y),len(y)),step3y,label='step3y')\n",
    "plt.title('step3y')\n",
    "plt.subplot(5,1,5)\n",
    "plt.plot(np.arange(len(y)-len(diff2step3y),len(y)),diff2step3y,label='diff2step3y')\n",
    "plt.title('diff2step3y')\n",
    "plt.show()"
   ]
  }
 ],
 "metadata": {
  "kernelspec": {
   "display_name": "Python 3",
   "language": "python",
   "name": "python3"
  },
  "language_info": {
   "codemirror_mode": {
    "name": "ipython",
    "version": 3
   },
   "file_extension": ".py",
   "mimetype": "text/x-python",
   "name": "python",
   "nbconvert_exporter": "python",
   "pygments_lexer": "ipython3",
   "version": "3.8.3"
  }
 },
 "nbformat": 4,
 "nbformat_minor": 4
}
